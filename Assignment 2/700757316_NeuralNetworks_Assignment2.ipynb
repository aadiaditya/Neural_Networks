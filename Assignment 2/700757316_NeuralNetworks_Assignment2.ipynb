{
 "cells": [
  {
   "cell_type": "markdown",
   "id": "d184e3dc",
   "metadata": {},
   "source": [
    "# 1. Write a program that takes two strings from the user: first_name, last_name. Pass these variables to fullname function that should return the (full name)."
   ]
  },
  {
   "cell_type": "code",
   "execution_count": 2,
   "id": "5b6d8152",
   "metadata": {},
   "outputs": [
    {
     "name": "stdout",
     "output_type": "stream",
     "text": [
      "Enter Your First Name:  Aditya\n",
      "Enter Your Last Name:  Tarak\n",
      "Aditya Tarak\n"
     ]
    }
   ],
   "source": [
    "def full_name(a,b):\n",
    "  return a+\" \"+b\n",
    "firstname=input(\"Enter Your First Name:  \")\n",
    "lastname=input(\"Enter Your Last Name:  \")\n",
    "print(full_name(firstname, lastname))\n",
    "     "
   ]
  },
  {
   "cell_type": "markdown",
   "id": "b34aeccc",
   "metadata": {},
   "source": [
    "# Write function named “string_alternative” that returns every other char in the full_name string.\n",
    "\n"
   ]
  },
  {
   "cell_type": "code",
   "execution_count": 3,
   "id": "c94b3781",
   "metadata": {},
   "outputs": [
    {
     "name": "stdout",
     "output_type": "stream",
     "text": [
      "Enter StringGood Evening\n",
      "Go vnn\n"
     ]
    }
   ],
   "source": [
    "def string_alternative(s):\n",
    "  return s[::2]\n",
    "print(string_alternative(input(\"Enter String\")))"
   ]
  },
  {
   "cell_type": "markdown",
   "id": "50892108",
   "metadata": {},
   "source": [
    "# 2. Write a python program to find the wordcount in a file (input.txt) for each line and then print the output. Finally store the output in output.txt file. "
   ]
  },
  {
   "cell_type": "code",
   "execution_count": 6,
   "id": "1ab63ed6",
   "metadata": {},
   "outputs": [],
   "source": [
    "text = open(\"input.txt\", \"r\")\n",
    "d = dict()\n",
    "for line in text:\n",
    "    line = line.strip()\n",
    "    line = line.lower()\n",
    "    words = line.split(\" \")\n",
    "    for word in words:\n",
    "        if word in d:\n",
    "            d[word] = d[word] + 1\n",
    "        else:\n",
    "            d[word] = 1\n",
    "file1 = open('output.txt', 'w')\n",
    "s=\"\"\n",
    "for key in list(d.keys()):\n",
    "    s+=key+ \":\"+ str(d[key])+\"\\n\"\n",
    "file1.write(s)\n",
    "file1.close()"
   ]
  },
  {
   "cell_type": "markdown",
   "id": "99b4a392",
   "metadata": {},
   "source": [
    "# 3. Write a program, which reads heights (inches.) of customers into a list and convert these heights to centimeters in a separate list using:\n",
    "1) Nested Interactive loop.\n",
    "2) List comprehensions\n"
   ]
  },
  {
   "cell_type": "code",
   "execution_count": 8,
   "id": "b6133194",
   "metadata": {},
   "outputs": [
    {
     "name": "stdout",
     "output_type": "stream",
     "text": [
      "Enter number of customers:2\n",
      "12\n",
      "32\n",
      "[12, 32]\n",
      "[30.48, 81.28]\n"
     ]
    }
   ],
   "source": [
    "\n",
    "list1=[]\n",
    "list2=[]\n",
    "n=int(input(\"Enter number of customers:\"))\n",
    "for i in range(n):\n",
    "  list1.append(int(input()))\n",
    "  list2.append(list1[i]*2.54)\n",
    "print(list1)\n",
    "print(list2)"
   ]
  },
  {
   "cell_type": "code",
   "execution_count": 9,
   "id": "6c323ca4",
   "metadata": {},
   "outputs": [
    {
     "name": "stdout",
     "output_type": "stream",
     "text": [
      "23\n",
      "[58.42]\n"
     ]
    }
   ],
   "source": [
    "#List comprehensions\n",
    "inches = list(map(int, input().split(\" \")))\n",
    "centimeter = [(i*2.54) for i in inches]\n",
    "print(centimeter)"
   ]
  },
  {
   "cell_type": "code",
   "execution_count": null,
   "id": "06fdf003",
   "metadata": {},
   "outputs": [],
   "source": []
  },
  {
   "cell_type": "code",
   "execution_count": null,
   "id": "bd986b2b",
   "metadata": {},
   "outputs": [],
   "source": []
  },
  {
   "cell_type": "code",
   "execution_count": null,
   "id": "5be95750",
   "metadata": {},
   "outputs": [],
   "source": []
  }
 ],
 "metadata": {
  "kernelspec": {
   "display_name": "Python 3 (ipykernel)",
   "language": "python",
   "name": "python3"
  },
  "language_info": {
   "codemirror_mode": {
    "name": "ipython",
    "version": 3
   },
   "file_extension": ".py",
   "mimetype": "text/x-python",
   "name": "python",
   "nbconvert_exporter": "python",
   "pygments_lexer": "ipython3",
   "version": "3.9.7"
  }
 },
 "nbformat": 4,
 "nbformat_minor": 5
}
