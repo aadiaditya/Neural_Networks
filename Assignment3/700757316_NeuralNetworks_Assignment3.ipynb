{
 "cells": [
  {
   "cell_type": "markdown",
   "id": "dc7561bb",
   "metadata": {},
   "source": [
    "# 1. Create a class Employee and then do the following\n",
    "• Create a data member to count the number of Employees\n",
    "• Create a constructor to initialize name, family, salary, department\n",
    "• Create a function to average salary\n",
    "• Create a Fulltime Employee class and it should inherit the properties of Employee class\n",
    "• Create the instances of Fulltime Employee class and Employee class and call their member functions.\n"
   ]
  },
  {
   "cell_type": "code",
   "execution_count": 1,
   "id": "159e12e7",
   "metadata": {
    "scrolled": true
   },
   "outputs": [
    {
     "name": "stdout",
     "output_type": "stream",
     "text": [
      "Employee 1: \n",
      "Enter name: Aditya\n",
      "Family Members: 3\n",
      "Employee Salary: 96000\n",
      "Employee Department: software\n",
      "Employee 2: \n",
      "Enter name: Tarak\n",
      "Family Members: 4\n",
      "Employee Salary: 150000\n",
      "Employee Department: Film\n",
      "Full Time Employee 1: \n",
      "Enter name: kajal\n",
      "Family Members: 3\n",
      "Employee Salary: 200000\n",
      "Employee Department: Acting\n",
      "\n",
      "Number of employees:  3\n",
      "Avg salary is : 123000.0\n"
     ]
    }
   ],
   "source": [
    "\n",
    "class Employee:\n",
    "    numberOfEmployees = 0\n",
    "\n",
    "    def __init__(self, name, family, salary, department):\n",
    "        self.name = name\n",
    "        self.family = family\n",
    "        self.salary = salary\n",
    "        self.department = department\n",
    "        Employee.numberOfEmployees+=1\n",
    "\n",
    "\n",
    "def averagesalary(employee):\n",
    "    total = sum(e.salary for e in employee)\n",
    "    average = total / len(employee)\n",
    "    return average\n",
    "\n",
    "class FulltimeEmployee(Employee):\n",
    "    def __init__(self, name, family, salary, department):\n",
    "        Employee.__init__(self,name, family, salary, department)\n",
    "\n",
    "print(\"Employee 1: \")\n",
    "employee1 = Employee(input(\"Enter name: \"),input(\"Family Members: \"),int(input(\"Employee Salary: \")),input(\"Employee Department: \"))\n",
    "print(\"Employee 2: \")\n",
    "employee2 = Employee(input(\"Enter name: \"),input(\"Family Members: \"),int(input(\"Employee Salary: \")),input(\"Employee Department: \"))\n",
    "print(\"Full Time Employee 1: \")\n",
    "employee3 = FulltimeEmployee(input(\"Enter name: \"),input(\"Family Members: \"),int(input(\"Employee Salary: \")),input(\"Employee Department: \"))\n",
    "print(\"\")\n",
    "print(\"Number of employees: \",Employee.numberOfEmployees)\n",
    "listofEmployees = [employee1, employee2]\n",
    "avgsalary = averagesalary(listofEmployees)\n",
    "print(\"Avg salary is :\", avgsalary)"
   ]
  },
  {
   "cell_type": "markdown",
   "id": "2ddf3dda",
   "metadata": {},
   "source": [
    "# 2. Numpy\n",
    "Using NumPy create random vector of size 20 having only float in the range 1-20.\n",
    "Then reshape the array to 4 by 5\n",
    "Then replace the max in each row by 0 (axis=1)\n",
    "(you can NOT implement it via for loop)"
   ]
  },
  {
   "cell_type": "code",
   "execution_count": 2,
   "id": "766d8011",
   "metadata": {},
   "outputs": [
    {
     "name": "stdout",
     "output_type": "stream",
     "text": [
      "[ 5.05850405 17.24529567 10.956419    1.74530366 10.51889527 17.64973231\n",
      "  1.54373296 18.16798442 18.77460298 18.99489415  9.89344753 13.05497307\n",
      "  2.32614783 13.71498478  9.833775    1.08792118 15.59739025  2.22892323\n",
      " 16.27960697 14.47593375]\n",
      "\n",
      "\n",
      "\n",
      "\n",
      "[[ 5.05850405 17.24529567 10.956419    1.74530366 10.51889527]\n",
      " [17.64973231  1.54373296 18.16798442 18.77460298 18.99489415]\n",
      " [ 9.89344753 13.05497307  2.32614783 13.71498478  9.833775  ]\n",
      " [ 1.08792118 15.59739025  2.22892323 16.27960697 14.47593375]]\n",
      "\n",
      "\n",
      "[[ 5.05850405  0.         10.956419    1.74530366 10.51889527]\n",
      " [17.64973231  1.54373296 18.16798442 18.77460298  0.        ]\n",
      " [ 9.89344753 13.05497307  2.32614783  0.          9.833775  ]\n",
      " [ 1.08792118 15.59739025  2.22892323  0.         14.47593375]]\n"
     ]
    }
   ],
   "source": [
    "\n",
    "import numpy as np\n",
    "\n",
    "random_vector = np.random.uniform(1, 20, 20)\n",
    "print(random_vector)\n",
    "print(\"\")\n",
    "print(\"\")\n",
    "reshaped_array = random_vector.reshape(4, 5)\n",
    "print(\"\")\n",
    "print(\"\")\n",
    "print(reshaped_array)\n",
    "reshaped_array[np.arange(4), np.argmax(reshaped_array, axis=1)] = 0\n",
    "print(\"\")\n",
    "print(\"\")\n",
    "print(reshaped_array)\n",
    "     "
   ]
  },
  {
   "cell_type": "code",
   "execution_count": null,
   "id": "3a92fbd3",
   "metadata": {},
   "outputs": [],
   "source": []
  }
 ],
 "metadata": {
  "kernelspec": {
   "display_name": "Python 3 (ipykernel)",
   "language": "python",
   "name": "python3"
  },
  "language_info": {
   "codemirror_mode": {
    "name": "ipython",
    "version": 3
   },
   "file_extension": ".py",
   "mimetype": "text/x-python",
   "name": "python",
   "nbconvert_exporter": "python",
   "pygments_lexer": "ipython3",
   "version": "3.9.7"
  }
 },
 "nbformat": 4,
 "nbformat_minor": 5
}
