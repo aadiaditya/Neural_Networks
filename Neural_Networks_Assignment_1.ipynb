{
 "cells": [
  {
   "cell_type": "markdown",
   "id": "ad62d8ab",
   "metadata": {},
   "source": [
    "# 1. Write a python program for the following:\n",
    "– Input the string “Python” as a list of characters from console, delete at least 2 characters, reverse the\n",
    "resultantstring and print it.\n",
    "Sample input:\n",
    "•python\n",
    "•Sample output:\n",
    "•ntyp"
   ]
  },
  {
   "cell_type": "code",
   "execution_count": 10,
   "id": "ba4995dc",
   "metadata": {
    "scrolled": true
   },
   "outputs": [
    {
     "name": "stdout",
     "output_type": "stream",
     "text": [
      "Enter a string  aditya\n",
      "Reversed String: tida\n"
     ]
    }
   ],
   "source": [
    "\n",
    "input_string = input(\"Enter a string  \")\n",
    "\n",
    "char_list = list(input_string)\n",
    "\n",
    "if len(char_list) >= 2:\n",
    "    del char_list[-2:]\n",
    "\n",
    "    reversed_string = ''.join(char_list[::-1])\n",
    " \n",
    "    print(\"Reversed String:\", reversed_string)\n",
    "else:\n",
    "    print(\"enter a string with at least 2 characters.\")\n"
   ]
  },
  {
   "cell_type": "markdown",
   "id": "f0b0e94f",
   "metadata": {},
   "source": [
    "# Take two numbers from user and perform at least 4 arithmetic operations on them.\n"
   ]
  },
  {
   "cell_type": "code",
   "execution_count": 34,
   "id": "69864a37",
   "metadata": {},
   "outputs": [
    {
     "name": "stdout",
     "output_type": "stream",
     "text": [
      "Enter the first number: 1\n",
      "Enter the second number: 2\n",
      "The sum is :  3\n",
      "The subtraction is :  -1\n",
      "The Multiplication is :  2\n",
      "The divison is : 0.5\n"
     ]
    }
   ],
   "source": [
    "\n",
    "num1 = float(input(\"Enter the first number: \"))\n",
    "num2 = float(input(\"Enter the second number: \"))\n",
    "\n",
    "\n",
    "addition = num1 + num2\n",
    "subtraction = num1 - num2\n",
    "multiplication= num1 * num2\n",
    "division = num1 / num2\n",
    "\n",
    "# Displaying the results\n",
    "print(\"The sum is : \",addition)\n",
    "print(\"The subtraction is : \", subtraction)\n",
    "print(\"The Multiplication is : \",multiplication)\n",
    "print(\"The divison is :\", division)\n"
   ]
  },
  {
   "cell_type": "markdown",
   "id": "5e897f10",
   "metadata": {},
   "source": [
    "# 2. Write a program that accepts a sentence and replace each occurrence of ‘python’ with ‘pythons’.\n",
    "•Sample input:\n",
    "•I love playing with python\n",
    "•Sample output:\n",
    "•I love playing with pythons"
   ]
  },
  {
   "cell_type": "code",
   "execution_count": 22,
   "id": "a2ec092e",
   "metadata": {},
   "outputs": [
    {
     "name": "stdout",
     "output_type": "stream",
     "text": [
      "Enter a sentence:  python is my favorite language because python has wide variety of libraries.\n",
      "Modified Sentence:  pythons is my favorite language because pythons has wide variety of libraries.\n"
     ]
    }
   ],
   "source": [
    "\n",
    "# Take user input for a sentence\n",
    "sentence = input(\"Enter a sentence: \")\n",
    "\n",
    "# Replace each occurrence of 'python' with 'pythons'\n",
    "modified_sentence = sentence.replace('python', 'pythons')\n",
    "\n",
    "# Print the modified sentence\n",
    "print(\"Modified Sentence:\", modified_sentence)\n"
   ]
  },
  {
   "cell_type": "markdown",
   "id": "ec6b9b36",
   "metadata": {},
   "source": [
    "# 3. Use the if statement conditions to write a program to print the letter grade based on an input class score. Use the grading scheme we are using in this class.\n"
   ]
  },
  {
   "cell_type": "markdown",
   "id": "e8abc1a1",
   "metadata": {},
   "source": [
    "Grading Scale\n",
    "Percent (%) Grade\n",
    "90-100 A\n",
    "80-89 B\n",
    "70-79 C\n",
    "60-69 D\n",
    "0-60 F"
   ]
  },
  {
   "cell_type": "code",
   "execution_count": 32,
   "id": "bcb77ed0",
   "metadata": {},
   "outputs": [
    {
     "name": "stdout",
     "output_type": "stream",
     "text": [
      "Enter the class score: 32\n",
      "The grade for the class score 32 is: F Next time study well\n"
     ]
    }
   ],
   "source": [
    "\n",
    "\n",
    "class_score = float(input(\"Enter the class score: \"))\n",
    "\n",
    "if 90 <= class_score <= 100:\n",
    "    grade = 'A'\n",
    "elif 80 <= class_score < 90:\n",
    "    grade = 'B'\n",
    "elif 70 <= class_score < 80:\n",
    "    grade = 'C'\n",
    "elif 60 <= class_score < 70:\n",
    "    grade = 'D'\n",
    "elif 0 <= class_score < 60:\n",
    "    grade = 'F Next time study well'\n",
    "else:\n",
    "    print(\"Invalid input. Please enter a score between 0 and 100.\")\n",
    "    \n",
    "print(f\"The grade for the class score {class_score} is: {grade}\")\n"
   ]
  },
  {
   "cell_type": "code",
   "execution_count": null,
   "id": "5d0f91da",
   "metadata": {},
   "outputs": [],
   "source": []
  }
 ],
 "metadata": {
  "kernelspec": {
   "display_name": "Python 3 (ipykernel)",
   "language": "python",
   "name": "python3"
  },
  "language_info": {
   "codemirror_mode": {
    "name": "ipython",
    "version": 3
   },
   "file_extension": ".py",
   "mimetype": "text/x-python",
   "name": "python",
   "nbconvert_exporter": "python",
   "pygments_lexer": "ipython3",
   "version": "3.9.7"
  }
 },
 "nbformat": 4,
 "nbformat_minor": 5
}
